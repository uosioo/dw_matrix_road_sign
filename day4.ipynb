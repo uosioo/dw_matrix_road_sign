{
  "nbformat": 4,
  "nbformat_minor": 0,
  "metadata": {
    "colab": {
      "name": "day4.ipynb",
      "provenance": [],
      "mount_file_id": "1GjCG1ladeLvwYK0eAA2X1WlZRFIS0aE1",
      "authorship_tag": "ABX9TyMn625djs5WOLOqHX+uKfV9",
      "include_colab_link": true
    },
    "kernelspec": {
      "name": "python3",
      "display_name": "Python 3"
    },
    "accelerator": "GPU"
  },
  "cells": [
    {
      "cell_type": "markdown",
      "metadata": {
        "id": "view-in-github",
        "colab_type": "text"
      },
      "source": [
        "<a href=\"https://colab.research.google.com/github/uosioo/dw_matrix_road_sign/blob/master/day4.ipynb\" target=\"_parent\"><img src=\"https://colab.research.google.com/assets/colab-badge.svg\" alt=\"Open In Colab\"/></a>"
      ]
    },
    {
      "cell_type": "code",
      "metadata": {
        "id": "mmxDLVSQzrEm",
        "colab_type": "code",
        "outputId": "2dfea22b-613b-489b-a8cb-9f548f172468",
        "colab": {
          "base_uri": "https://localhost:8080/",
          "height": 34
        }
      },
      "source": [
        "cd '/content/drive/My Drive/Colab Notebooks/matrix/matrix_three/dw_matrix_road_sign'"
      ],
      "execution_count": 2,
      "outputs": [
        {
          "output_type": "stream",
          "text": [
            "/content/drive/My Drive/Colab Notebooks/matrix/matrix_three/dw_matrix_road_sign\n"
          ],
          "name": "stdout"
        }
      ]
    },
    {
      "cell_type": "code",
      "metadata": {
        "id": "FV2tceHd0JnW",
        "colab_type": "code",
        "outputId": "f2e5fda5-1413-4401-d815-ccdc552c8ad2",
        "colab": {
          "base_uri": "https://localhost:8080/",
          "height": 34
        }
      },
      "source": [
        "pwd\n"
      ],
      "execution_count": 3,
      "outputs": [
        {
          "output_type": "execute_result",
          "data": {
            "text/plain": [
              "'/content/drive/My Drive/Colab Notebooks/matrix/matrix_three/dw_matrix_road_sign'"
            ]
          },
          "metadata": {
            "tags": []
          },
          "execution_count": 3
        }
      ]
    },
    {
      "cell_type": "code",
      "metadata": {
        "id": "vHzpyh2jN8hW",
        "colab_type": "code",
        "outputId": "d0bf65c6-3b43-46a3-a172-0563043d4335",
        "colab": {
          "base_uri": "https://localhost:8080/",
          "height": 51
        }
      },
      "source": [
        "import pandas as pd\n",
        "import numpy as np\n",
        "\n",
        "import tensorflow as tf\n",
        "from tensorflow.keras.models import Sequential\n",
        "from tensorflow.keras.layers import Conv2D, MaxPool2D, Dense, Flatten, Dropout\n",
        "from tensorflow.keras.utils import to_categorical  \n",
        "\n",
        "import os\n",
        "import datetime\n",
        "\n",
        "%load_ext tensorboard\n",
        "\n",
        "import matplotlib.pyplot as plt\n",
        "from skimage import color, exposure\n",
        "\n",
        "from sklearn.metrics import accuracy_score"
      ],
      "execution_count": 47,
      "outputs": [
        {
          "output_type": "stream",
          "text": [
            "The tensorboard extension is already loaded. To reload it, use:\n",
            "  %reload_ext tensorboard\n"
          ],
          "name": "stdout"
        }
      ]
    },
    {
      "cell_type": "code",
      "metadata": {
        "id": "Wlgs6EjzWgSS",
        "colab_type": "code",
        "outputId": "6cf055e0-2226-4207-b353-c9b2edd83118",
        "colab": {
          "base_uri": "https://localhost:8080/",
          "height": 34
        }
      },
      "source": [
        "train = pd.read_pickle('data/train.p')\n",
        "test = pd.read_pickle('data/test.p')\n",
        "\n",
        "x_train, y_train = train['features'], train['labels']\n",
        "x_test, y_test = test['features'], test['labels']\n",
        "\n",
        "#nasz spis labeli testowych pokazuje nam id znaku dla danej pozycji\n",
        "y_train"
      ],
      "execution_count": 5,
      "outputs": [
        {
          "output_type": "execute_result",
          "data": {
            "text/plain": [
              "array([41, 41, 41, ..., 25, 25, 25], dtype=uint8)"
            ]
          },
          "metadata": {
            "tags": []
          },
          "execution_count": 5
        }
      ]
    },
    {
      "cell_type": "code",
      "metadata": {
        "id": "E-meHA6aW8vH",
        "colab_type": "code",
        "cellView": "code",
        "outputId": "896a9cd8-f7f7-4a04-a21c-59baab755e09",
        "colab": {
          "base_uri": "https://localhost:8080/",
          "height": 68
        }
      },
      "source": [
        "#@title Default title text\n",
        "#są 43 unikalne znaki w naszej bazie (0-42)\n",
        "len(np.unique(y_train))\n",
        "\n",
        "#id znaków zaczynają się od 0\n",
        "np.unique(y_train)"
      ],
      "execution_count": 6,
      "outputs": [
        {
          "output_type": "execute_result",
          "data": {
            "text/plain": [
              "array([ 0,  1,  2,  3,  4,  5,  6,  7,  8,  9, 10, 11, 12, 13, 14, 15, 16,\n",
              "       17, 18, 19, 20, 21, 22, 23, 24, 25, 26, 27, 28, 29, 30, 31, 32, 33,\n",
              "       34, 35, 36, 37, 38, 39, 40, 41, 42], dtype=uint8)"
            ]
          },
          "metadata": {
            "tags": []
          },
          "execution_count": 6
        }
      ]
    },
    {
      "cell_type": "code",
      "metadata": {
        "id": "TRRynBHMZTD1",
        "colab_type": "code",
        "colab": {}
      },
      "source": [
        ""
      ],
      "execution_count": 0,
      "outputs": []
    },
    {
      "cell_type": "code",
      "metadata": {
        "id": "DYwc8fuOXYSV",
        "colab_type": "code",
        "outputId": "3ba970de-fd72-46ea-84cd-8f27919955da",
        "colab": {
          "base_uri": "https://localhost:8080/",
          "height": 68
        }
      },
      "source": [
        "#będziemy potrzebować nie od znaku, a macierzy w postaci 0/1\n",
        "#macierz będzie miała 43 kolumny (bo tyle jest znaków ogółem)\n",
        "#dla id znaku 41 cały wiersz będzie wypełniony 0 poza kolumną #41, w której będzie 1, jako wskazanie id znaku\n",
        "\n",
        "#y_train[0] to znak id o id 41 - zrzutowane na tą macierz o której wyżej pokazuje 1 na pozycji przedostatniej, czyli id 41\n",
        "to_categorical(y_train)[0]"
      ],
      "execution_count": 7,
      "outputs": [
        {
          "output_type": "execute_result",
          "data": {
            "text/plain": [
              "array([0., 0., 0., 0., 0., 0., 0., 0., 0., 0., 0., 0., 0., 0., 0., 0., 0.,\n",
              "       0., 0., 0., 0., 0., 0., 0., 0., 0., 0., 0., 0., 0., 0., 0., 0., 0.,\n",
              "       0., 0., 0., 0., 0., 0., 0., 1., 0.], dtype=float32)"
            ]
          },
          "metadata": {
            "tags": []
          },
          "execution_count": 7
        }
      ]
    },
    {
      "cell_type": "code",
      "metadata": {
        "id": "0ScLigwdYb5p",
        "colab_type": "code",
        "colab": {}
      },
      "source": [
        "#sprawdzenie ilości wymiarów tablicy\n",
        "y_train.ndim\n",
        "\n",
        "#jeśli tablica jest jednowymiarowa, to rzutujemy ją na stałe do zmiennej y_train\n",
        "\n",
        "if y_train.ndim == 1 : y_train = to_categorical(y_train)"
      ],
      "execution_count": 0,
      "outputs": []
    },
    {
      "cell_type": "code",
      "metadata": {
        "id": "7orPU7hFZrl4",
        "colab_type": "code",
        "outputId": "34426519-c17b-494c-bacd-4ab4e430b085",
        "colab": {
          "base_uri": "https://localhost:8080/",
          "height": 34
        }
      },
      "source": [
        "# teraz widać, że y_train jest dwuwymiarowe - ma 35k wierszy w 43 kolumnach\n",
        "y_train.ndim\n",
        "y_train.shape"
      ],
      "execution_count": 9,
      "outputs": [
        {
          "output_type": "execute_result",
          "data": {
            "text/plain": [
              "(34799, 43)"
            ]
          },
          "metadata": {
            "tags": []
          },
          "execution_count": 9
        }
      ]
    },
    {
      "cell_type": "code",
      "metadata": {
        "id": "B5lwoyn3aBXW",
        "colab_type": "code",
        "outputId": "2d40c6c1-f0a1-4ebc-a536-d4934409eb1e",
        "colab": {
          "base_uri": "https://localhost:8080/",
          "height": 34
        }
      },
      "source": [
        "#to samo dla testa\n",
        "if y_test.ndim == 1 : y_test = to_categorical(y_test)\n",
        "y_test.shape"
      ],
      "execution_count": 10,
      "outputs": [
        {
          "output_type": "execute_result",
          "data": {
            "text/plain": [
              "(4410, 43)"
            ]
          },
          "metadata": {
            "tags": []
          },
          "execution_count": 10
        }
      ]
    },
    {
      "cell_type": "code",
      "metadata": {
        "id": "nD03mpoLaXy_",
        "colab_type": "code",
        "outputId": "86b4e145-1aa9-4547-ec9d-225709c1b843",
        "colab": {
          "base_uri": "https://localhost:8080/",
          "height": 255
        }
      },
      "source": [
        "#przechodzimy do tworzenia modelu danych - \"SIEĆ\"\n",
        "\n",
        "#Sequential znaczy, że jest sekwencyjny \"warstwowy\" - warstwy przekazują wyniki po kolei do kolejych warstw\n",
        "\n",
        "#input size to rozmiar poszczególnych pól? [1:] ogranicza nam, że bez pierwszego elementu - porównaj x_train.shape i x_train.shape[1:]\n",
        "input_shape = x_train.shape[1:]\n",
        "\n",
        "#ilość klas - czyli wielkość pierwszej kolumny z y_train\n",
        "num_classes = y_train.shape[1]\n",
        "\n",
        "#Conv2d - warstwa convalucyjna\n",
        "#Flatten - w sumie ch.. wie po co\n",
        "model = Sequential([\n",
        "  Conv2D(filters=64, kernel_size=(3, 3), activation='relu', input_shape=input_shape),\n",
        "  Flatten(),\n",
        "  Dense(num_classes, activation='softmax')\n",
        "])\n",
        "\n",
        "#schemat naszego modelu (sieci) - oczekuje zdjęcia 30x30 na wejściu\n",
        "model.summary()"
      ],
      "execution_count": 11,
      "outputs": [
        {
          "output_type": "stream",
          "text": [
            "Model: \"sequential\"\n",
            "_________________________________________________________________\n",
            "Layer (type)                 Output Shape              Param #   \n",
            "=================================================================\n",
            "conv2d (Conv2D)              (None, 30, 30, 64)        1792      \n",
            "_________________________________________________________________\n",
            "flatten (Flatten)            (None, 57600)             0         \n",
            "_________________________________________________________________\n",
            "dense (Dense)                (None, 43)                2476843   \n",
            "=================================================================\n",
            "Total params: 2,478,635\n",
            "Trainable params: 2,478,635\n",
            "Non-trainable params: 0\n",
            "_________________________________________________________________\n"
          ],
          "name": "stdout"
        }
      ]
    },
    {
      "cell_type": "code",
      "metadata": {
        "id": "fku2px7BisWq",
        "colab_type": "code",
        "outputId": "0760113b-c1fd-45fd-dc2e-774af80b6834",
        "colab": {
          "base_uri": "https://localhost:8080/",
          "height": 51
        }
      },
      "source": [
        "#compile skleja naszą sieć, żeby się uczyła\n",
        "model.compile(loss='categorical_crossentropy', optimizer='Adam', metrics=['accuracy'])\n",
        "\n",
        "#i rozpoczynamy trening sieci\n",
        "model.fit(x_train, y_train)"
      ],
      "execution_count": 12,
      "outputs": [
        {
          "output_type": "stream",
          "text": [
            "1088/1088 [==============================] - 3s 3ms/step - loss: 7.5074 - accuracy: 0.7830\n"
          ],
          "name": "stdout"
        },
        {
          "output_type": "execute_result",
          "data": {
            "text/plain": [
              "<tensorflow.python.keras.callbacks.History at 0x7fe8a00804a8>"
            ]
          },
          "metadata": {
            "tags": []
          },
          "execution_count": 12
        }
      ]
    },
    {
      "cell_type": "code",
      "metadata": {
        "id": "jserQc5Oj6rS",
        "colab_type": "code",
        "colab": {}
      },
      "source": [
        "def get_cnn_v1(input_shape, num_classes):\n",
        "  return Sequential([\n",
        "    Conv2D(filters=64, kernel_size=(3, 3), activation='relu', input_shape=input_shape),\n",
        "    Flatten(),\n",
        "    Dense(num_classes, activation='softmax')\n",
        "  ])\n",
        "\n",
        "def train_model(model, x_train, y_train, params_fit={}):\n",
        "  model.compile(loss='categorical_crossentropy', optimizer='Adam', metrics=['accuracy'])\n",
        "\n",
        "  logdir = os.path.join(\"logs\", datetime.datetime.now().strftime(\"%Y%m%d-%H%M%S\"))\n",
        "  tensorboard_callback = tf.keras.callbacks.TensorBoard(logdir, histogram_freq=1)\n",
        "\n",
        "  model.fit(\n",
        "      x_train, \n",
        "      y_train,\n",
        "      batch_size=params_fit.get('batch_size', 128),\n",
        "      epochs=params_fit.get('epochs', 5),\n",
        "      verbose=params_fit.get('verbose', 1),\n",
        "      validation_data=params_fit.get('validation_data', (x_train, y_train)),\n",
        "      callbacks=[tensorboard_callback]\n",
        "  )\n",
        "\n",
        "  return model"
      ],
      "execution_count": 0,
      "outputs": []
    },
    {
      "cell_type": "code",
      "metadata": {
        "id": "SWtHckZ2nXf-",
        "colab_type": "code",
        "outputId": "4b8a840e-6982-4ace-9792-9b61efabe81d",
        "colab": {
          "base_uri": "https://localhost:8080/",
          "height": 187
        }
      },
      "source": [
        "model = get_cnn_v1(input_shape, num_classes)\n",
        "model_trained = train_model(model, x_train, y_train)"
      ],
      "execution_count": 14,
      "outputs": [
        {
          "output_type": "stream",
          "text": [
            "Epoch 1/5\n",
            "272/272 [==============================] - 3s 10ms/step - loss: 13.5332 - accuracy: 0.7450 - val_loss: 0.2649 - val_accuracy: 0.9408\n",
            "Epoch 2/5\n",
            "272/272 [==============================] - 2s 9ms/step - loss: 0.2084 - accuracy: 0.9522 - val_loss: 0.1023 - val_accuracy: 0.9758\n",
            "Epoch 3/5\n",
            "272/272 [==============================] - 2s 9ms/step - loss: 0.1319 - accuracy: 0.9718 - val_loss: 0.1140 - val_accuracy: 0.9764\n",
            "Epoch 4/5\n",
            "272/272 [==============================] - 2s 9ms/step - loss: 0.1397 - accuracy: 0.9683 - val_loss: 0.0851 - val_accuracy: 0.9805\n",
            "Epoch 5/5\n",
            "272/272 [==============================] - 2s 9ms/step - loss: 0.1173 - accuracy: 0.9733 - val_loss: 0.0904 - val_accuracy: 0.9786\n"
          ],
          "name": "stdout"
        }
      ]
    },
    {
      "cell_type": "code",
      "metadata": {
        "id": "fX1T5VPNL-1W",
        "colab_type": "code",
        "colab": {
          "base_uri": "https://localhost:8080/",
          "height": 204
        },
        "outputId": "0fbf6629-9d01-4a21-c694-5f05792fa12f"
      },
      "source": [
        "  #robimy prognozowanie trafności\n",
        "  y_pred_prob = model_trained.predict(x_test)\n",
        "\n",
        "  #a tak sprawdzamy co algorytm przewidział - zwraca nam macierz dopasowania dla każdego typu\n",
        "  y_pred_prob[400]"
      ],
      "execution_count": 48,
      "outputs": [
        {
          "output_type": "execute_result",
          "data": {
            "text/plain": [
              "array([2.2317754e-04, 4.0181026e-01, 1.5744191e-11, 9.9981915e-12,\n",
              "       5.9796172e-01, 4.8521551e-06, 1.2723044e-15, 2.8984734e-19,\n",
              "       1.2273722e-24, 2.6954390e-17, 3.4519273e-17, 5.6859832e-28,\n",
              "       2.3155306e-21, 3.5356925e-30, 1.7227860e-28, 5.6885469e-19,\n",
              "       2.0757768e-15, 0.0000000e+00, 8.4190675e-19, 2.8858645e-33,\n",
              "       3.6740390e-32, 5.6608917e-23, 5.5825363e-37, 5.1869447e-23,\n",
              "       1.9655686e-30, 6.4975791e-30, 1.1554478e-18, 2.8716822e-29,\n",
              "       1.6995775e-24, 4.6447231e-24, 2.0005084e-38, 5.3528975e-25,\n",
              "       1.1137490e-21, 2.2809767e-31, 4.6453328e-36, 3.1654424e-18,\n",
              "       1.0939942e-32, 5.6010084e-22, 2.0411489e-22, 7.3143960e-32,\n",
              "       2.6924574e-18, 1.8912582e-36, 2.8092498e-22], dtype=float32)"
            ]
          },
          "metadata": {
            "tags": []
          },
          "execution_count": 48
        }
      ]
    },
    {
      "cell_type": "code",
      "metadata": {
        "id": "yQbWJluoHJTH",
        "colab_type": "code",
        "colab": {
          "base_uri": "https://localhost:8080/",
          "height": 34
        },
        "outputId": "de6e0810-0e3f-4d10-fc4f-f67ef38fe2ef"
      },
      "source": [
        "#tak możemy wyciągnąć indeks największej wartości z macierzy - czyli indeks najbardziej dopasowanego/rozpoznanego\n",
        "np.argmax(y_pred_prob[830])"
      ],
      "execution_count": 37,
      "outputs": [
        {
          "output_type": "execute_result",
          "data": {
            "text/plain": [
              "3"
            ]
          },
          "metadata": {
            "tags": []
          },
          "execution_count": 37
        }
      ]
    },
    {
      "cell_type": "code",
      "metadata": {
        "id": "8JaPVmi1JiRn",
        "colab_type": "code",
        "colab": {
          "base_uri": "https://localhost:8080/",
          "height": 282
        },
        "outputId": "461a62c8-2de1-48a9-be90-d45490d0b9b6"
      },
      "source": [
        "#możemy zrobić wykres wartości z tej macierzy - widać, czy jest jeden wiodący, czy może kilka typów\n",
        "plt.bar(range(43), y_pred_prob[1])"
      ],
      "execution_count": 44,
      "outputs": [
        {
          "output_type": "execute_result",
          "data": {
            "text/plain": [
              "<BarContainer object of 43 artists>"
            ]
          },
          "metadata": {
            "tags": []
          },
          "execution_count": 44
        },
        {
          "output_type": "display_data",
          "data": {
            "image/png": "[encoded data removed]",
            "text/plain": [
              "<Figure size 432x288 with 1 Axes>"
            ]
          },
          "metadata": {
            "tags": []
          }
        }
      ]
    },
    {
      "cell_type": "code",
      "metadata": {
        "id": "nqS-nplbIwdP",
        "colab_type": "code",
        "colab": {}
      },
      "source": [
        "#dla weryfkacji wczytujemy słownik nazw znaków\n",
        "df = pd.read_csv('data/signnames.csv')\n",
        "labels_dict = df.to_dict()['b']"
      ],
      "execution_count": 0,
      "outputs": []
    },
    {
      "cell_type": "code",
      "metadata": {
        "id": "MZa4ciwBFeYK",
        "colab_type": "code",
        "colab": {
          "base_uri": "https://localhost:8080/",
          "height": 283
        },
        "outputId": "c0d6471c-87ec-48dd-d16e-c9f34a65b495"
      },
      "source": [
        "#dla weryfikacji podglądamy sobie obrazek\n",
        "plt.imshow(x_test[1])"
      ],
      "execution_count": 45,
      "outputs": [
        {
          "output_type": "execute_result",
          "data": {
            "text/plain": [
              "<matplotlib.image.AxesImage at 0x7fe83feb5cc0>"
            ]
          },
          "metadata": {
            "tags": []
          },
          "execution_count": 45
        },
        {
          "output_type": "display_data",
          "data": {
            "image/png": "[encoded data removed]",
            "text/plain": [
              "<Figure size 432x288 with 1 Axes>"
            ]
          },
          "metadata": {
            "tags": []
          }
        }
      ]
    },
    {
      "cell_type": "code",
      "metadata": {
        "id": "88uCqUD9GjbG",
        "colab_type": "code",
        "colab": {
          "base_uri": "https://localhost:8080/",
          "height": 34
        },
        "outputId": "3fcd655e-0b09-4bda-f54b-100481737b7b"
      },
      "source": [
        "labels_dict[np.argmax(y_pred_prob[1])]"
      ],
      "execution_count": 46,
      "outputs": [
        {
          "output_type": "execute_result",
          "data": {
            "text/plain": [
              "'Priority road'"
            ]
          },
          "metadata": {
            "tags": []
          },
          "execution_count": 46
        }
      ]
    },
    {
      "cell_type": "code",
      "metadata": {
        "id": "-lIIvc6iFdlA",
        "colab_type": "code",
        "colab": {}
      },
      "source": [
        "#ubieramy to wszystko w funkcję\n",
        "\n",
        "def predict(model_trained, x_test, y_test, scoring=accuracy_score):\n",
        "  #tablica wartości prawidłowych\n",
        "  y_test_norm = np.argmax(y_test, axis=1)\n",
        "\n",
        "  y_pred_prob = model_trained.predict(x_test)\n",
        "\n",
        "  # zrzucamy sobie do tablicy wszystkie największe prawdopodobieństwa, czyli naszą predykcję\n",
        "  y_pred = np.argmax(y_pred_prob, axis=1)\n",
        "\n",
        "  return scoring(y_test_norm, y_pred)\n",
        "\n"
      ],
      "execution_count": 0,
      "outputs": []
    },
    {
      "cell_type": "code",
      "metadata": {
        "id": "PnxSRgaNqdBU",
        "colab_type": "code",
        "outputId": "ce7c4e78-3a10-4ed4-ee85-d8922d951328",
        "colab": {
          "base_uri": "https://localhost:8080/",
          "height": 34
        }
      },
      "source": [
        "#sprawdzamy jak dobrze poradził sobie nasz model\n",
        "predict(model_trained, x_test, y_test)"
      ],
      "execution_count": 51,
      "outputs": [
        {
          "output_type": "execute_result",
          "data": {
            "text/plain": [
              "0.8344671201814059"
            ]
          },
          "metadata": {
            "tags": []
          },
          "execution_count": 51
        }
      ]
    },
    {
      "cell_type": "code",
      "metadata": {
        "id": "bDhyAODfqn6x",
        "colab_type": "code",
        "colab": {}
      },
      "source": [
        "def get_cnn_v2(input_shape, num_classes):\n",
        "  return Sequential([\n",
        "    Conv2D(filters=32, kernel_size=(3, 3), activation='relu', input_shape=input_shape),\n",
        "    MaxPool2D(),\n",
        "    Dropout(0.5),\n",
        "    \n",
        "    Conv2D(filters=64, kernel_size=(3, 3), activation='relu'),\n",
        "    MaxPool2D(),\n",
        "    Dropout(0.3),\n",
        "\n",
        "    Flatten(),\n",
        "    \n",
        "    Dense(1024, activation='relu'),\n",
        "    Dropout(0.5),\n",
        "\n",
        "    Dense(num_classes, activation='softmax')\n",
        "  ])\n",
        "\n",
        "#get_cnn_v2(input_shape, num_classes).summary()"
      ],
      "execution_count": 0,
      "outputs": []
    },
    {
      "cell_type": "code",
      "metadata": {
        "id": "l4q3O6YBFa13",
        "colab_type": "code",
        "colab": {}
      },
      "source": [
        "def train_and_predict(model, params_fit={}):\n",
        "  model_trained = train_model(model, x_train, y_train, params_fit)\n",
        "  return predict(model_trained, x_test, y_test)"
      ],
      "execution_count": 0,
      "outputs": []
    },
    {
      "cell_type": "code",
      "metadata": {
        "id": "3iFJ99nJsnxs",
        "colab_type": "code",
        "outputId": "eb1d5a91-c5c8-4094-9607-38ab5ab7ed1d",
        "colab": {
          "base_uri": "https://localhost:8080/",
          "height": 374
        }
      },
      "source": [
        "params_fit = {\n",
        "    'epochs':10\n",
        "}\n",
        "train_and_predict( get_cnn_v2(input_shape, num_classes), params_fit )"
      ],
      "execution_count": 59,
      "outputs": [
        {
          "output_type": "stream",
          "text": [
            "Epoch 1/10\n",
            "272/272 [==============================] - 3s 9ms/step - loss: 8.2699 - accuracy: 0.0721 - val_loss: 3.4383 - val_accuracy: 0.0743\n",
            "Epoch 2/10\n",
            "272/272 [==============================] - 2s 9ms/step - loss: 2.9688 - accuracy: 0.2058 - val_loss: 2.4243 - val_accuracy: 0.3439\n",
            "Epoch 3/10\n",
            "272/272 [==============================] - 2s 9ms/step - loss: 2.0966 - accuracy: 0.3964 - val_loss: 1.5073 - val_accuracy: 0.5581\n",
            "Epoch 4/10\n",
            "272/272 [==============================] - 2s 9ms/step - loss: 1.5823 - accuracy: 0.5082 - val_loss: 1.0619 - val_accuracy: 0.6720\n",
            "Epoch 5/10\n",
            "272/272 [==============================] - 2s 9ms/step - loss: 1.1870 - accuracy: 0.6198 - val_loss: 0.6994 - val_accuracy: 0.7790\n",
            "Epoch 6/10\n",
            "272/272 [==============================] - 2s 9ms/step - loss: 0.8756 - accuracy: 0.7209 - val_loss: 0.4232 - val_accuracy: 0.8865\n",
            "Epoch 7/10\n",
            "272/272 [==============================] - 2s 9ms/step - loss: 0.7008 - accuracy: 0.7758 - val_loss: 0.2787 - val_accuracy: 0.9228\n",
            "Epoch 8/10\n",
            "272/272 [==============================] - 2s 9ms/step - loss: 0.5897 - accuracy: 0.8146 - val_loss: 0.2147 - val_accuracy: 0.9516\n",
            "Epoch 9/10\n",
            "272/272 [==============================] - 2s 9ms/step - loss: 0.5012 - accuracy: 0.8439 - val_loss: 0.1618 - val_accuracy: 0.9563\n",
            "Epoch 10/10\n",
            "272/272 [==============================] - 2s 9ms/step - loss: 0.4445 - accuracy: 0.8620 - val_loss: 0.1197 - val_accuracy: 0.9697\n"
          ],
          "name": "stdout"
        },
        {
          "output_type": "execute_result",
          "data": {
            "text/plain": [
              "0.8843537414965986"
            ]
          },
          "metadata": {
            "tags": []
          },
          "execution_count": 59
        }
      ]
    },
    {
      "cell_type": "code",
      "metadata": {
        "id": "ypqRiBSStPTM",
        "colab_type": "code",
        "outputId": "58fab293-6def-4dab-b4a4-89088a4b7271",
        "colab": {
          "base_uri": "https://localhost:8080/",
          "height": 204
        }
      },
      "source": [
        "def get_cnn_v3(input_shape, num_classes):\n",
        "  return Sequential([\n",
        "    Conv2D(filters=32, kernel_size=(3, 3), activation='relu', input_shape=input_shape),\n",
        "    MaxPool2D(),    \n",
        "    Dropout(0.3),\n",
        "\n",
        "    Conv2D(filters=64, kernel_size=(3, 3), activation='relu'),\n",
        "    MaxPool2D(),   \n",
        "    Dropout(0.3),\n",
        "\n",
        "    Flatten(),\n",
        "\n",
        "    Dense(1024, activation='relu'),   \n",
        "    Dropout(0.3),\n",
        "\n",
        "    Dense(num_classes, activation='softmax')\n",
        "  ])\n",
        "\n",
        "train_and_predict( get_cnn_v3(input_shape, num_classes) )"
      ],
      "execution_count": 63,
      "outputs": [
        {
          "output_type": "stream",
          "text": [
            "Epoch 1/5\n",
            "272/272 [==============================] - 2s 9ms/step - loss: 6.3547 - accuracy: 0.2293 - val_loss: 1.9979 - val_accuracy: 0.4852\n",
            "Epoch 2/5\n",
            "272/272 [==============================] - 2s 8ms/step - loss: 1.6434 - accuracy: 0.5165 - val_loss: 0.8145 - val_accuracy: 0.7822\n",
            "Epoch 3/5\n",
            "272/272 [==============================] - 2s 9ms/step - loss: 0.9057 - accuracy: 0.7209 - val_loss: 0.3031 - val_accuracy: 0.9286\n",
            "Epoch 4/5\n",
            "272/272 [==============================] - 2s 9ms/step - loss: 0.5391 - accuracy: 0.8349 - val_loss: 0.1339 - val_accuracy: 0.9649\n",
            "Epoch 5/5\n",
            "272/272 [==============================] - 2s 9ms/step - loss: 0.3643 - accuracy: 0.8883 - val_loss: 0.0748 - val_accuracy: 0.9848\n"
          ],
          "name": "stdout"
        },
        {
          "output_type": "execute_result",
          "data": {
            "text/plain": [
              "0.9074829931972789"
            ]
          },
          "metadata": {
            "tags": []
          },
          "execution_count": 63
        }
      ]
    },
    {
      "cell_type": "code",
      "metadata": {
        "id": "ZRbkxZ4Px9mC",
        "colab_type": "code",
        "outputId": "f0965234-53ff-4e3e-b66d-09ce4515ab28",
        "colab": {
          "base_uri": "https://localhost:8080/",
          "height": 204
        }
      },
      "source": [
        "def get_cnn_v4(input_shape, num_classes):\n",
        "  return Sequential([\n",
        "    Conv2D(filters=32, kernel_size=(3, 3), activation='relu', input_shape=input_shape),\n",
        "    Conv2D(filters=32, kernel_size=(3, 3), activation='relu'),\n",
        "    MaxPool2D(),    \n",
        "    Dropout(0.3),\n",
        "\n",
        "    Conv2D(filters=64, kernel_size=(3, 3), activation='relu'),\n",
        "    Conv2D(filters=64, kernel_size=(3, 3), activation='relu'),\n",
        "    MaxPool2D(),   \n",
        "    Dropout(0.3),\n",
        "\n",
        "    Flatten(),\n",
        "\n",
        "    Dense(1024, activation='relu'),   \n",
        "    Dropout(0.3),\n",
        "\n",
        "    Dense(num_classes, activation='softmax')\n",
        "  ])\n",
        "\n",
        "train_and_predict( get_cnn_v3(input_shape, num_classes) )"
      ],
      "execution_count": 64,
      "outputs": [
        {
          "output_type": "stream",
          "text": [
            "Epoch 1/5\n",
            "272/272 [==============================] - 2s 9ms/step - loss: 5.2816 - accuracy: 0.3592 - val_loss: 0.8281 - val_accuracy: 0.8039\n",
            "Epoch 2/5\n",
            "272/272 [==============================] - 2s 9ms/step - loss: 0.8771 - accuracy: 0.7459 - val_loss: 0.2633 - val_accuracy: 0.9401\n",
            "Epoch 3/5\n",
            "272/272 [==============================] - 2s 9ms/step - loss: 0.4863 - accuracy: 0.8556 - val_loss: 0.1477 - val_accuracy: 0.9672\n",
            "Epoch 4/5\n",
            "272/272 [==============================] - 2s 9ms/step - loss: 0.3531 - accuracy: 0.8966 - val_loss: 0.0906 - val_accuracy: 0.9801\n",
            "Epoch 5/5\n",
            "272/272 [==============================] - 2s 9ms/step - loss: 0.2698 - accuracy: 0.9209 - val_loss: 0.0595 - val_accuracy: 0.9870\n"
          ],
          "name": "stdout"
        },
        {
          "output_type": "execute_result",
          "data": {
            "text/plain": [
              "0.9108843537414966"
            ]
          },
          "metadata": {
            "tags": []
          },
          "execution_count": 64
        }
      ]
    },
    {
      "cell_type": "code",
      "metadata": {
        "id": "zVd12k5RyEUa",
        "colab_type": "code",
        "outputId": "e8a026db-f25d-43d6-ce5e-96babf4c7df0",
        "colab": {
          "base_uri": "https://localhost:8080/",
          "height": 204
        }
      },
      "source": [
        "def get_cnn_v5(input_shape, num_classes):\n",
        "  return Sequential([\n",
        "    Conv2D(filters=32, kernel_size=(3, 3), activation='relu', input_shape=input_shape),\n",
        "    Conv2D(filters=32, kernel_size=(3, 3), activation='relu', padding='same'),\n",
        "    MaxPool2D(),    \n",
        "    Dropout(0.3),\n",
        "\n",
        "    Conv2D(filters=64, kernel_size=(3, 3), activation='relu', padding='same'),\n",
        "    Conv2D(filters=64, kernel_size=(3, 3), activation='relu'),\n",
        "    MaxPool2D(),   \n",
        "    Dropout(0.3),\n",
        "\n",
        "    Conv2D(filters=64, kernel_size=(3, 3), activation='relu', padding='same'),\n",
        "    Conv2D(filters=64, kernel_size=(3, 3), activation='relu'),\n",
        "    MaxPool2D(),   \n",
        "    Dropout(0.3),\n",
        "\n",
        "    Flatten(),\n",
        "\n",
        "    Dense(1024, activation='relu'),   \n",
        "    Dropout(0.3),\n",
        "\n",
        "    Dense(num_classes, activation='softmax')\n",
        "  ])\n",
        "\n",
        "train_and_predict( get_cnn_v5(input_shape, num_classes) )\n",
        "#get_cnn_v5(input_shape, num_classes).summary()"
      ],
      "execution_count": 67,
      "outputs": [
        {
          "output_type": "stream",
          "text": [
            "Epoch 1/5\n",
            "272/272 [==============================] - 4s 14ms/step - loss: 3.0009 - accuracy: 0.2182 - val_loss: 1.2348 - val_accuracy: 0.6551\n",
            "Epoch 2/5\n",
            "272/272 [==============================] - 4s 13ms/step - loss: 0.9820 - accuracy: 0.6998 - val_loss: 0.2948 - val_accuracy: 0.9206\n",
            "Epoch 3/5\n",
            "272/272 [==============================] - 3s 13ms/step - loss: 0.4597 - accuracy: 0.8568 - val_loss: 0.1675 - val_accuracy: 0.9534\n",
            "Epoch 4/5\n",
            "272/272 [==============================] - 3s 12ms/step - loss: 0.2869 - accuracy: 0.9146 - val_loss: 0.0621 - val_accuracy: 0.9841\n",
            "Epoch 5/5\n",
            "272/272 [==============================] - 3s 12ms/step - loss: 0.2018 - accuracy: 0.9392 - val_loss: 0.0465 - val_accuracy: 0.9878\n"
          ],
          "name": "stdout"
        },
        {
          "output_type": "execute_result",
          "data": {
            "text/plain": [
              "0.964172335600907"
            ]
          },
          "metadata": {
            "tags": []
          },
          "execution_count": 67
        }
      ]
    },
    {
      "cell_type": "code",
      "metadata": {
        "id": "Qsg_giWVyafy",
        "colab_type": "code",
        "outputId": "f6af3bf8-8e73-457e-ae8e-fccedd3ce369",
        "colab": {
          "base_uri": "https://localhost:8080/",
          "height": 204
        }
      },
      "source": [
        "def get_cnn_v6(input_shape, num_classes):\n",
        "  return Sequential([\n",
        "    Conv2D(filters=32, kernel_size=(3, 3), activation='relu', input_shape=input_shape),\n",
        "    Conv2D(filters=32, kernel_size=(3, 3), activation='relu', padding='same'),\n",
        "    MaxPool2D(),    \n",
        "    Dropout(0.3),\n",
        "\n",
        "    Conv2D(filters=64, kernel_size=(3, 3), activation='relu', padding='same'),\n",
        "    Conv2D(filters=64, kernel_size=(3, 3), activation='relu'),\n",
        "    MaxPool2D(),   \n",
        "    Dropout(0.3),\n",
        "\n",
        "    Conv2D(filters=64, kernel_size=(3, 3), activation='relu', padding='same'),\n",
        "    Conv2D(filters=64, kernel_size=(3, 3), activation='relu'),\n",
        "    MaxPool2D(),   \n",
        "    Dropout(0.3),\n",
        "\n",
        "    Flatten(),\n",
        "\n",
        "    Dense(1024, activation='relu'),   \n",
        "    Dropout(0.3),\n",
        "\n",
        "    Dense(1024, activation='relu'),   \n",
        "    Dropout(0.3),\n",
        "\n",
        "    Dense(num_classes, activation='softmax')\n",
        "  ])\n",
        "\n",
        "train_and_predict( get_cnn_v6(input_shape, num_classes) )"
      ],
      "execution_count": 68,
      "outputs": [
        {
          "output_type": "stream",
          "text": [
            "Epoch 1/5\n",
            "272/272 [==============================] - 4s 14ms/step - loss: 2.7599 - accuracy: 0.2566 - val_loss: 1.3952 - val_accuracy: 0.5548\n",
            "Epoch 2/5\n",
            "272/272 [==============================] - 4s 13ms/step - loss: 1.0909 - accuracy: 0.6460 - val_loss: 0.3267 - val_accuracy: 0.9078\n",
            "Epoch 3/5\n",
            "272/272 [==============================] - 4s 13ms/step - loss: 0.4618 - accuracy: 0.8535 - val_loss: 0.0815 - val_accuracy: 0.9767\n",
            "Epoch 4/5\n",
            "272/272 [==============================] - 4s 13ms/step - loss: 0.2898 - accuracy: 0.9118 - val_loss: 0.0623 - val_accuracy: 0.9811\n",
            "Epoch 5/5\n",
            "272/272 [==============================] - 4s 13ms/step - loss: 0.2186 - accuracy: 0.9363 - val_loss: 0.0454 - val_accuracy: 0.9867\n"
          ],
          "name": "stdout"
        },
        {
          "output_type": "execute_result",
          "data": {
            "text/plain": [
              "0.9666666666666667"
            ]
          },
          "metadata": {
            "tags": []
          },
          "execution_count": 68
        }
      ]
    },
    {
      "cell_type": "code",
      "metadata": {
        "id": "0E65i56UXut9",
        "colab_type": "code",
        "colab": {
          "base_uri": "https://localhost:8080/",
          "height": 884
        },
        "outputId": "c2d3d534-d9f4-40ec-cc3c-ce6ef13272fb"
      },
      "source": [
        "params_fit = {\n",
        "    'epochs':25\n",
        "}\n",
        "train_and_predict( get_cnn_v6(input_shape, num_classes), params_fit )"
      ],
      "execution_count": 80,
      "outputs": [
        {
          "output_type": "stream",
          "text": [
            "Epoch 1/25\n",
            "272/272 [==============================] - 4s 14ms/step - loss: 2.7729 - accuracy: 0.2522 - val_loss: 1.2075 - val_accuracy: 0.6068\n",
            "Epoch 2/25\n",
            "272/272 [==============================] - 4s 13ms/step - loss: 1.0088 - accuracy: 0.6770 - val_loss: 0.3207 - val_accuracy: 0.8913\n",
            "Epoch 3/25\n",
            "272/272 [==============================] - 4s 13ms/step - loss: 0.4798 - accuracy: 0.8486 - val_loss: 0.1052 - val_accuracy: 0.9702\n",
            "Epoch 4/25\n",
            "272/272 [==============================] - 4s 13ms/step - loss: 0.2963 - accuracy: 0.9083 - val_loss: 0.0653 - val_accuracy: 0.9801\n",
            "Epoch 5/25\n",
            "272/272 [==============================] - 4s 13ms/step - loss: 0.2110 - accuracy: 0.9360 - val_loss: 0.0375 - val_accuracy: 0.9888\n",
            "Epoch 6/25\n",
            "272/272 [==============================] - 4s 13ms/step - loss: 0.1778 - accuracy: 0.9478 - val_loss: 0.0396 - val_accuracy: 0.9880\n",
            "Epoch 7/25\n",
            "272/272 [==============================] - 4s 13ms/step - loss: 0.1502 - accuracy: 0.9560 - val_loss: 0.0246 - val_accuracy: 0.9930\n",
            "Epoch 8/25\n",
            "272/272 [==============================] - 4s 13ms/step - loss: 0.1361 - accuracy: 0.9609 - val_loss: 0.0226 - val_accuracy: 0.9930\n",
            "Epoch 9/25\n",
            "272/272 [==============================] - 4s 13ms/step - loss: 0.1239 - accuracy: 0.9632 - val_loss: 0.0167 - val_accuracy: 0.9953\n",
            "Epoch 10/25\n",
            "272/272 [==============================] - 4s 13ms/step - loss: 0.1218 - accuracy: 0.9665 - val_loss: 0.0132 - val_accuracy: 0.9966\n",
            "Epoch 11/25\n",
            "272/272 [==============================] - 4s 13ms/step - loss: 0.1081 - accuracy: 0.9698 - val_loss: 0.0154 - val_accuracy: 0.9950\n",
            "Epoch 12/25\n",
            "272/272 [==============================] - 4s 13ms/step - loss: 0.1104 - accuracy: 0.9686 - val_loss: 0.0096 - val_accuracy: 0.9975\n",
            "Epoch 13/25\n",
            "272/272 [==============================] - 4s 13ms/step - loss: 0.1023 - accuracy: 0.9718 - val_loss: 0.0159 - val_accuracy: 0.9955\n",
            "Epoch 14/25\n",
            "272/272 [==============================] - 4s 13ms/step - loss: 0.1017 - accuracy: 0.9716 - val_loss: 0.0110 - val_accuracy: 0.9970\n",
            "Epoch 15/25\n",
            "272/272 [==============================] - 4s 13ms/step - loss: 0.1067 - accuracy: 0.9708 - val_loss: 0.0177 - val_accuracy: 0.9945\n",
            "Epoch 16/25\n",
            "272/272 [==============================] - 4s 13ms/step - loss: 0.0999 - accuracy: 0.9734 - val_loss: 0.0270 - val_accuracy: 0.9922\n",
            "Epoch 17/25\n",
            "272/272 [==============================] - 4s 13ms/step - loss: 0.0815 - accuracy: 0.9779 - val_loss: 0.0327 - val_accuracy: 0.9904\n",
            "Epoch 18/25\n",
            "272/272 [==============================] - 4s 13ms/step - loss: 0.0941 - accuracy: 0.9746 - val_loss: 0.0081 - val_accuracy: 0.9978\n",
            "Epoch 19/25\n",
            "272/272 [==============================] - 4s 13ms/step - loss: 0.0912 - accuracy: 0.9756 - val_loss: 0.0104 - val_accuracy: 0.9974\n",
            "Epoch 20/25\n",
            "272/272 [==============================] - 4s 13ms/step - loss: 0.0935 - accuracy: 0.9754 - val_loss: 0.0107 - val_accuracy: 0.9967\n",
            "Epoch 21/25\n",
            "272/272 [==============================] - 4s 13ms/step - loss: 0.1003 - accuracy: 0.9739 - val_loss: 0.0129 - val_accuracy: 0.9961\n",
            "Epoch 22/25\n",
            "272/272 [==============================] - 4s 13ms/step - loss: 0.0994 - accuracy: 0.9749 - val_loss: 0.0183 - val_accuracy: 0.9953\n",
            "Epoch 23/25\n",
            "272/272 [==============================] - 4s 13ms/step - loss: 0.0980 - accuracy: 0.9764 - val_loss: 0.0129 - val_accuracy: 0.9965\n",
            "Epoch 24/25\n",
            "272/272 [==============================] - 4s 13ms/step - loss: 0.0853 - accuracy: 0.9780 - val_loss: 0.0132 - val_accuracy: 0.9960\n",
            "Epoch 25/25\n",
            "272/272 [==============================] - 4s 13ms/step - loss: 0.0905 - accuracy: 0.9768 - val_loss: 0.0090 - val_accuracy: 0.9976\n"
          ],
          "name": "stdout"
        },
        {
          "output_type": "execute_result",
          "data": {
            "text/plain": [
              "0.9850340136054422"
            ]
          },
          "metadata": {
            "tags": []
          },
          "execution_count": 80
        }
      ]
    },
    {
      "cell_type": "code",
      "metadata": {
        "id": "7kZTNkbxT-IN",
        "colab_type": "code",
        "colab": {
          "base_uri": "https://localhost:8080/",
          "height": 34
        },
        "outputId": "7977f180-ee18-4401-8b51-7aaf1c25e142"
      },
      "source": [
        "color.rgb2gray(x_train[0]).shape"
      ],
      "execution_count": 70,
      "outputs": [
        {
          "output_type": "execute_result",
          "data": {
            "text/plain": [
              "(32, 32)"
            ]
          },
          "metadata": {
            "tags": []
          },
          "execution_count": 70
        }
      ]
    },
    {
      "cell_type": "code",
      "metadata": {
        "id": "3LycK2UgULlu",
        "colab_type": "code",
        "colab": {
          "base_uri": "https://localhost:8080/",
          "height": 283
        },
        "outputId": "c62ee4cf-e3e0-459b-eeb7-2bf68e14fa94"
      },
      "source": [
        "plt.imshow(color.rgb2gray(x_train[0]), cmap=plt.get_cmap('gray'))"
      ],
      "execution_count": 72,
      "outputs": [
        {
          "output_type": "execute_result",
          "data": {
            "text/plain": [
              "<matplotlib.image.AxesImage at 0x7fe839fc7ac8>"
            ]
          },
          "metadata": {
            "tags": []
          },
          "execution_count": 72
        },
        {
          "output_type": "display_data",
          "data": {
            "image/png": "[encoded data removed]",
            "text/plain": [
              "<Figure size 432x288 with 1 Axes>"
            ]
          },
          "metadata": {
            "tags": []
          }
        }
      ]
    },
    {
      "cell_type": "code",
      "metadata": {
        "id": "OP9LZx2Dy3nw",
        "colab_type": "code",
        "colab": {
          "base_uri": "https://localhost:8080/",
          "height": 34
        },
        "outputId": "ac0bc670-196d-45e0-9060-10a62966c5ea"
      },
      "source": [
        "#konwertujemy sobie kanały rgb do szarości\n",
        "#teraz są 3 kanały RGB\n",
        "x_train[0].shape"
      ],
      "execution_count": 69,
      "outputs": [
        {
          "output_type": "execute_result",
          "data": {
            "text/plain": [
              "(32, 32, 3)"
            ]
          },
          "metadata": {
            "tags": []
          },
          "execution_count": 69
        }
      ]
    },
    {
      "cell_type": "code",
      "metadata": {
        "id": "cy6HnOatUS47",
        "colab_type": "code",
        "colab": {
          "base_uri": "https://localhost:8080/",
          "height": 34
        },
        "outputId": "f3457edd-025d-4b33-9f2b-2e5f394e384f"
      },
      "source": [
        "#to teraz prognozujemy szare zdjęcia dla porównania\n",
        "x_train_gray = color.rgb2gray( x_train).reshape(-1, 32, 32, 1)\n",
        "x_test_gray = color.rgb2gray( x_test ).reshape(-1, 32, 32, 1)\n",
        "\n",
        "#jako, że obcinamy ilość kanałów, to zmienia nam się wymiar input_shape - było 32,32,3, a jest 32,32,1 - trzeba zrobić reshape\n",
        "x_test_gray.reshape(-1, 32, 32, 1).shape"
      ],
      "execution_count": 77,
      "outputs": [
        {
          "output_type": "execute_result",
          "data": {
            "text/plain": [
              "(4410, 32, 32, 1)"
            ]
          },
          "metadata": {
            "tags": []
          },
          "execution_count": 77
        }
      ]
    },
    {
      "cell_type": "code",
      "metadata": {
        "id": "0JsMmBLAVea4",
        "colab_type": "code",
        "colab": {
          "base_uri": "https://localhost:8080/",
          "height": 204
        },
        "outputId": "3f952efa-fec1-44a0-9d41-5a5241a2167c"
      },
      "source": [
        "model = get_cnn_v6((32,32,1), num_classes)\n",
        "model_trained = train_model(model, x_train_gray, y_train)\n",
        "predict(model_trained, x_test_gray, y_test)"
      ],
      "execution_count": 79,
      "outputs": [
        {
          "output_type": "stream",
          "text": [
            "Epoch 1/5\n",
            "272/272 [==============================] - 4s 14ms/step - loss: 2.5687 - accuracy: 0.2841 - val_loss: 0.6169 - val_accuracy: 0.7987\n",
            "Epoch 2/5\n",
            "272/272 [==============================] - 4s 13ms/step - loss: 0.5293 - accuracy: 0.8294 - val_loss: 0.1292 - val_accuracy: 0.9619\n",
            "Epoch 3/5\n",
            "272/272 [==============================] - 4s 13ms/step - loss: 0.2567 - accuracy: 0.9190 - val_loss: 0.0679 - val_accuracy: 0.9800\n",
            "Epoch 4/5\n",
            "272/272 [==============================] - 4s 13ms/step - loss: 0.1682 - accuracy: 0.9482 - val_loss: 0.0375 - val_accuracy: 0.9890\n",
            "Epoch 5/5\n",
            "272/272 [==============================] - 4s 13ms/step - loss: 0.1315 - accuracy: 0.9582 - val_loss: 0.0249 - val_accuracy: 0.9929\n"
          ],
          "name": "stdout"
        },
        {
          "output_type": "execute_result",
          "data": {
            "text/plain": [
              "0.9598639455782313"
            ]
          },
          "metadata": {
            "tags": []
          },
          "execution_count": 79
        }
      ]
    },
    {
      "cell_type": "code",
      "metadata": {
        "id": "aCUzFvPmV50L",
        "colab_type": "code",
        "colab": {}
      },
      "source": [
        ""
      ],
      "execution_count": 0,
      "outputs": []
    }
  ]
}